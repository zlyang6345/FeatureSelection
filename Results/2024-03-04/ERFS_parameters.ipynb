{
 "cells": [
  {
   "cell_type": "markdown",
   "id": "f618b25bc0c8fb05",
   "metadata": {
    "collapsed": false
   },
   "source": [
    "# 100 Data Instances"
   ]
  },
  {
   "cell_type": "markdown",
   "id": "93cfab77",
   "metadata": {},
   "source": [
    "## Explore Gamma"
   ]
  },
  {
   "cell_type": "markdown",
   "id": "59f42c0b05591ff",
   "metadata": {
    "collapsed": false
   },
   "source": [
    "###  erfs.fit(gamma=0.1, epoch=30, non_zero=True, sigma=0.001)"
   ]
  },
  {
   "cell_type": "markdown",
   "id": "fd22f2976efd5861",
   "metadata": {
    "collapsed": false
   },
   "source": [
    "         importance\n",
    "CD21.35    0.126420\n",
    "B220       0.112029\n",
    "CD11c      0.101654\n",
    "CD4        0.091727\n",
    "CD169      0.086105\n",
    "CD8a       0.070510\n",
    "Ly6C       0.069218\n",
    "TCR        0.065930\n",
    "CD27       0.052893\n",
    "CD44       0.049065\n",
    "CD19       0.046314\n",
    "CD11b      0.041272\n",
    "CD79b      0.040747\n",
    "CD90       0.039309\n",
    "F4.80      0.039127\n",
    "CD3        0.037163\n",
    "MHCII      0.031874\n",
    "CD5        0.028375\n",
    "NKp46      0.026037\n",
    "IgD        0.018134\n",
    "CD16.32    0.017364\n",
    "CD106      0.013608\n",
    "ERTR7      0.012508\n",
    "IgM        0.009982\n",
    "CD45       0.009829\n",
    "CD31       0.008759\n",
    "Ter119     0.006118\n",
    "Ly6G       0.005348\n",
    "CD35       0.004163\n",
    "CD71       0.004038"
   ]
  },
  {
   "cell_type": "markdown",
   "id": "7416eddf584cfe21",
   "metadata": {
    "collapsed": false
   },
   "source": [
    "###  erfs.fit(gamma=0.01, epoch=30, non_zero=True, sigma=0.001)"
   ]
  },
  {
   "cell_type": "markdown",
   "id": "77a97ab842683fea",
   "metadata": {
    "collapsed": false
   },
   "source": [
    "         importance\n",
    "CD21.35    0.126781\n",
    "B220       0.112898\n",
    "CD11c      0.101828\n",
    "CD4        0.092085\n",
    "CD169      0.086313\n",
    "CD8a       0.071310\n",
    "Ly6C       0.069964\n",
    "TCR        0.066292\n",
    "CD27       0.053192\n",
    "CD44       0.049517\n",
    "CD19       0.046565\n",
    "CD11b      0.041405\n",
    "CD79b      0.040661\n",
    "CD90       0.039317\n",
    "F4.80      0.039243\n",
    "CD3        0.037462\n",
    "MHCII      0.031485\n",
    "CD5        0.028201\n",
    "NKp46      0.026058\n",
    "IgD        0.018049\n",
    "CD16.32    0.017418\n",
    "CD106      0.013583\n",
    "ERTR7      0.012473\n",
    "IgM        0.009867\n",
    "CD45       0.009841\n",
    "CD31       0.008763\n",
    "Ter119     0.006089\n",
    "Ly6G       0.005206\n",
    "CD35       0.004105\n",
    "CD71       0.003874"
   ]
  },
  {
   "cell_type": "markdown",
   "id": "fb3fb4e90a8be370",
   "metadata": {
    "collapsed": false
   },
   "source": [
    "###  erfs.fit(0.001, 30, True, 0.001)"
   ]
  },
  {
   "cell_type": "markdown",
   "id": "73b8231694db15e5",
   "metadata": {
    "collapsed": false
   },
   "source": [
    "         importance\n",
    "CD21.35    0.126878\n",
    "B220       0.113027\n",
    "CD11c      0.101845\n",
    "CD4        0.092123\n",
    "CD169      0.086341\n",
    "CD8a       0.071395\n",
    "Ly6C       0.070038\n",
    "TCR        0.066343\n",
    "CD27       0.053227\n",
    "CD44       0.049562\n",
    "CD19       0.046613\n",
    "CD11b      0.041422\n",
    "CD79b      0.040671\n",
    "CD90       0.039335\n",
    "F4.80      0.039264\n",
    "CD3        0.037493\n",
    "MHCII      0.031485\n",
    "CD5        0.028195\n",
    "NKp46      0.026061\n",
    "IgD        0.018062\n",
    "CD16.32    0.017435\n",
    "CD106      0.013593\n",
    "ERTR7      0.012479\n",
    "IgM        0.009873\n",
    "CD45       0.009843\n",
    "CD31       0.008770\n",
    "Ter119     0.006094\n",
    "Ly6G       0.005205\n",
    "CD35       0.004108\n",
    "CD71       0.003872"
   ]
  },
  {
   "cell_type": "markdown",
   "id": "a714a19298d753c0",
   "metadata": {
    "collapsed": false
   },
   "source": [
    "# 1000 Data Instances"
   ]
  },
  {
   "cell_type": "markdown",
   "id": "43f290af3e1541db",
   "metadata": {
    "collapsed": false
   },
   "source": [
    "**Noticeably, much slower**"
   ]
  },
  {
   "cell_type": "markdown",
   "id": "0aa638bd",
   "metadata": {},
   "source": [
    "## Explore Gamma"
   ]
  },
  {
   "cell_type": "markdown",
   "id": "75f90e4d68e616ee",
   "metadata": {
    "collapsed": false
   },
   "source": [
    "### erfs.fit(0.1, 30, True, 0.001)"
   ]
  },
  {
   "cell_type": "markdown",
   "id": "3eb89c6d64734732",
   "metadata": {
    "collapsed": false
   },
   "source": [
    "         importance\n",
    "NKp46      0.082574\n",
    "CD21.35    0.081938\n",
    "CD27       0.074842\n",
    "CD11b      0.065923\n",
    "B220       0.061568\n",
    "CD5        0.059695\n",
    "CD19       0.054777\n",
    "TCR        0.050452\n",
    "MHCII      0.037488\n",
    "CD79b      0.036644\n",
    "IgD        0.032168\n",
    "CD169      0.031259\n",
    "CD4        0.026482\n",
    "CD8a       0.016697\n",
    "CD90       0.013446\n",
    "Ly6C       0.009973\n",
    "CD44       0.006889\n",
    "CD106      0.006279\n",
    "CD45       0.005908\n",
    "CD31       0.004643\n",
    "CD3        0.004512\n",
    "IgM        0.004345\n",
    "F4.80      0.004297\n",
    "ERTR7      0.003607\n",
    "Ter119     0.003197\n",
    "CD11c      0.002857\n",
    "CD35       0.002514\n",
    "CD71       0.002489\n",
    "CD16.32    0.002459\n",
    "Ly6G       0.001265\n"
   ]
  },
  {
   "cell_type": "markdown",
   "id": "4a8e7826a6e72c28",
   "metadata": {
    "collapsed": false
   },
   "source": [
    "### erfs.fit(0.01, 30, True, 0.001)"
   ]
  },
  {
   "cell_type": "markdown",
   "id": "3e7620f76afc1fbf",
   "metadata": {
    "collapsed": false
   },
   "source": [
    "         importance\n",
    "NKp46      0.082638\n",
    "CD21.35    0.081507\n",
    "CD27       0.075016\n",
    "CD11b      0.066051\n",
    "B220       0.061367\n",
    "CD5        0.059750\n",
    "CD19       0.054239\n",
    "TCR        0.050490\n",
    "MHCII      0.036932\n",
    "CD79b      0.036570\n",
    "IgD        0.031933\n",
    "CD169      0.031315\n",
    "CD4        0.026436\n",
    "CD8a       0.016589\n",
    "CD90       0.013373\n",
    "Ly6C       0.009895\n",
    "CD44       0.006841\n",
    "CD106      0.006189\n",
    "CD45       0.005893\n",
    "CD31       0.004603\n",
    "CD3        0.004432\n",
    "IgM        0.004290\n",
    "F4.80      0.004210\n",
    "ERTR7      0.003541\n",
    "Ter119     0.003137\n",
    "CD11c      0.002806\n",
    "CD35       0.002518\n",
    "CD71       0.002422\n",
    "CD16.32    0.002414\n",
    "Ly6G       0.001226"
   ]
  },
  {
   "cell_type": "markdown",
   "id": "721d5a72a58abafd",
   "metadata": {
    "collapsed": false
   },
   "source": [
    "### erfs.fit(0.001, 30, True, 0.001)"
   ]
  },
  {
   "cell_type": "markdown",
   "id": "2f7249e6ba203b03",
   "metadata": {
    "collapsed": false
   },
   "source": [
    "         importance\n",
    "NKp46      0.082640\n",
    "CD21.35    0.081504\n",
    "CD27       0.075020\n",
    "CD11b      0.066053\n",
    "B220       0.061367\n",
    "CD5        0.059752\n",
    "CD19       0.054234\n",
    "TCR        0.050492\n",
    "MHCII      0.036927\n",
    "CD79b      0.036570\n",
    "IgD        0.031931\n",
    "CD169      0.031316\n",
    "CD4        0.026435\n",
    "CD8a       0.016588\n",
    "CD90       0.013372\n",
    "Ly6C       0.009894\n",
    "CD44       0.006841\n",
    "CD106      0.006188\n",
    "CD45       0.005893\n",
    "CD31       0.004602\n",
    "CD3        0.004431\n",
    "IgM        0.004289\n",
    "F4.80      0.004209\n",
    "ERTR7      0.003540\n",
    "Ter119     0.003137\n",
    "CD11c      0.002805\n",
    "CD35       0.002518\n",
    "CD71       0.002422\n",
    "CD16.32    0.002413\n",
    "Ly6G       0.001226\n"
   ]
  },
  {
   "cell_type": "markdown",
   "id": "9c0f8c05",
   "metadata": {},
   "source": [
    "## Explore Sigma"
   ]
  },
  {
   "cell_type": "markdown",
   "id": "ad8e3ca0",
   "metadata": {},
   "source": [
    "### erfs.fit(0.01, 30, True, 0.1)"
   ]
  },
  {
   "cell_type": "markdown",
   "id": "bd509de4",
   "metadata": {},
   "source": [
    "         importance\n",
    "NKp46      0.082587\n",
    "CD21.35    0.081963\n",
    "CD27       0.074860\n",
    "CD11b      0.065924\n",
    "B220       0.061591\n",
    "CD5        0.059712\n",
    "CD19       0.054791\n",
    "TCR        0.050469\n",
    "MHCII      0.037502\n",
    "CD79b      0.036654\n",
    "IgD        0.032178\n",
    "CD169      0.031264\n",
    "CD4        0.026481\n",
    "CD8a       0.016699\n",
    "CD90       0.013446\n",
    "Ly6C       0.009973\n",
    "CD44       0.006889\n",
    "CD106      0.006279\n",
    "CD45       0.005908\n",
    "CD31       0.004643\n",
    "CD3        0.004511\n",
    "IgM        0.004346\n",
    "F4.80      0.004297\n",
    "ERTR7      0.003607\n",
    "Ter119     0.003198\n",
    "CD11c      0.002857\n",
    "CD35       0.002515\n",
    "CD71       0.002490\n",
    "CD16.32    0.002459\n",
    "Ly6G       0.001265"
   ]
  },
  {
   "cell_type": "markdown",
   "id": "1477ab70",
   "metadata": {},
   "source": [
    "### erfs.fit(0.01, 30, True, 0.01)"
   ]
  },
  {
   "cell_type": "markdown",
   "id": "36431a36",
   "metadata": {},
   "source": [
    "         importance\n",
    "NKp46      0.082634\n",
    "CD21.35    0.081553\n",
    "CD27       0.075002\n",
    "CD11b      0.066039\n",
    "B220       0.061391\n",
    "CD5        0.059747\n",
    "CD19       0.054294\n",
    "TCR        0.050489\n",
    "MHCII      0.036989\n",
    "CD79b      0.036579\n",
    "IgD        0.031958\n",
    "CD169      0.031310\n",
    "CD4        0.026440\n",
    "CD8a       0.016600\n",
    "CD90       0.013380\n",
    "Ly6C       0.009902\n",
    "CD44       0.006846\n",
    "CD106      0.006197\n",
    "CD45       0.005895\n",
    "CD31       0.004607\n",
    "CD3        0.004439\n",
    "IgM        0.004295\n",
    "F4.80      0.004219\n",
    "ERTR7      0.003548\n",
    "Ter119     0.003143\n",
    "CD11c      0.002811\n",
    "CD35       0.002518\n",
    "CD71       0.002429\n",
    "CD16.32    0.002418\n",
    "Ly6G       0.001229"
   ]
  },
  {
   "cell_type": "markdown",
   "id": "9ee57099",
   "metadata": {},
   "source": [
    "### erfs.fit(0.01, 30, True, 0.001)"
   ]
  },
  {
   "cell_type": "markdown",
   "id": "1d036cb1",
   "metadata": {},
   "source": [
    "         importance\n",
    "NKp46      0.082638\n",
    "CD21.35    0.081507\n",
    "CD27       0.075016\n",
    "CD11b      0.066051\n",
    "B220       0.061367\n",
    "CD5        0.059750\n",
    "CD19       0.054239\n",
    "TCR        0.050490\n",
    "MHCII      0.036932\n",
    "CD79b      0.036570\n",
    "IgD        0.031933\n",
    "CD169      0.031315\n",
    "CD4        0.026436\n",
    "CD8a       0.016589\n",
    "CD90       0.013373\n",
    "Ly6C       0.009895\n",
    "CD44       0.006841\n",
    "CD106      0.006189\n",
    "CD45       0.005893\n",
    "CD31       0.004603\n",
    "CD3        0.004432\n",
    "IgM        0.004290\n",
    "F4.80      0.004210\n",
    "ERTR7      0.003541\n",
    "Ter119     0.003137\n",
    "CD11c      0.002806\n",
    "CD35       0.002518\n",
    "CD71       0.002422\n",
    "CD16.32    0.002414\n",
    "Ly6G       0.001226"
   ]
  },
  {
   "cell_type": "markdown",
   "id": "b264daf1",
   "metadata": {},
   "source": [
    "## Explore Epoch"
   ]
  },
  {
   "cell_type": "markdown",
   "id": "30adabd5",
   "metadata": {},
   "source": [
    "### erfs.fit(0.01, 10, True, 0.01)"
   ]
  },
  {
   "cell_type": "markdown",
   "id": "4206085e",
   "metadata": {},
   "source": [
    "         importance\n",
    "CD21.35    0.082447\n",
    "NKp46      0.082255\n",
    "CD27       0.073794\n",
    "CD11b      0.065651\n",
    "B220       0.062020\n",
    "CD5        0.059830\n",
    "CD19       0.055019\n",
    "TCR        0.050769\n",
    "MHCII      0.037863\n",
    "CD79b      0.037027\n",
    "IgD        0.032880\n",
    "CD169      0.031638\n",
    "CD4        0.027182\n",
    "CD8a       0.017238\n",
    "CD90       0.013851\n",
    "Ly6C       0.010374\n",
    "CD44       0.007057\n",
    "CD106      0.006630\n",
    "CD45       0.005926\n",
    "CD3        0.004807\n",
    "CD31       0.004680\n",
    "F4.80      0.004426\n",
    "IgM        0.004395\n",
    "ERTR7      0.003656\n",
    "Ter119     0.003224\n",
    "CD11c      0.002894\n",
    "CD71       0.002524\n",
    "CD35       0.002518\n",
    "CD16.32    0.002516\n",
    "Ly6G       0.001288"
   ]
  },
  {
   "cell_type": "markdown",
   "id": "90e3e201",
   "metadata": {},
   "source": [
    "### erfs.fit(0.01, 15, True, 0.01)"
   ]
  },
  {
   "cell_type": "markdown",
   "id": "d5bb41fa",
   "metadata": {},
   "source": [
    "         importance\n",
    "NKp46      0.082579\n",
    "CD21.35    0.081656\n",
    "CD27       0.074847\n",
    "CD11b      0.065986\n",
    "B220       0.061472\n",
    "CD5        0.059745\n",
    "CD19       0.054376\n",
    "TCR        0.050533\n",
    "MHCII      0.037094\n",
    "CD79b      0.036638\n",
    "IgD        0.032073\n",
    "CD169      0.031371\n",
    "CD4        0.026546\n",
    "CD8a       0.016686\n",
    "CD90       0.013439\n",
    "Ly6C       0.009965\n",
    "CD44       0.006871\n",
    "CD106      0.006253\n",
    "CD45       0.005898\n",
    "CD31       0.004617\n",
    "CD3        0.004484\n",
    "IgM        0.004307\n",
    "F4.80      0.004243\n",
    "ERTR7      0.003560\n",
    "Ter119     0.003153\n",
    "CD11c      0.002821\n",
    "CD35       0.002518\n",
    "CD71       0.002440\n",
    "CD16.32    0.002430\n",
    "Ly6G       0.001237"
   ]
  },
  {
   "cell_type": "markdown",
   "id": "4146c5fd",
   "metadata": {},
   "source": [
    "### erfs.fit(0.01, 20, True, 0.01)"
   ]
  },
  {
   "cell_type": "markdown",
   "id": "503c9981",
   "metadata": {},
   "source": [
    "         importance\n",
    "NKp46      0.082626\n",
    "CD21.35    0.081565\n",
    "CD27       0.074983\n",
    "CD11b      0.066032\n",
    "B220       0.061401\n",
    "CD5        0.059746\n",
    "CD19       0.054304\n",
    "TCR        0.050495\n",
    "MHCII      0.037002\n",
    "CD79b      0.036587\n",
    "IgD        0.031972\n",
    "CD169      0.031320\n",
    "CD4        0.026455\n",
    "CD8a       0.016611\n",
    "CD90       0.013387\n",
    "Ly6C       0.009911\n",
    "CD44       0.006849\n",
    "CD106      0.006204\n",
    "CD45       0.005895\n",
    "CD31       0.004608\n",
    "CD3        0.004445\n",
    "IgM        0.004297\n",
    "F4.80      0.004222\n",
    "ERTR7      0.003549\n",
    "Ter119     0.003144\n",
    "CD11c      0.002812\n",
    "CD35       0.002518\n",
    "CD71       0.002430\n",
    "CD16.32    0.002419\n",
    "Ly6G       0.001230"
   ]
  },
  {
   "cell_type": "markdown",
   "id": "51235858",
   "metadata": {},
   "source": [
    "### erfs.fit(0.01, 30, True, 0.01)"
   ]
  },
  {
   "cell_type": "markdown",
   "id": "21e6c8dc",
   "metadata": {},
   "source": [
    "         importance\n",
    "NKp46      0.082634\n",
    "CD21.35    0.081553\n",
    "CD27       0.075002\n",
    "CD11b      0.066039\n",
    "B220       0.061391\n",
    "CD5        0.059747\n",
    "CD19       0.054294\n",
    "TCR        0.050489\n",
    "MHCII      0.036989\n",
    "CD79b      0.036579\n",
    "IgD        0.031958\n",
    "CD169      0.031310\n",
    "CD4        0.026440\n",
    "CD8a       0.016600\n",
    "CD90       0.013380\n",
    "Ly6C       0.009902\n",
    "CD44       0.006846\n",
    "CD106      0.006197\n",
    "CD45       0.005895\n",
    "CD31       0.004607\n",
    "CD3        0.004439\n",
    "IgM        0.004295\n",
    "F4.80      0.004219\n",
    "ERTR7      0.003548\n",
    "Ter119     0.003143\n",
    "CD11c      0.002811\n",
    "CD35       0.002518\n",
    "CD71       0.002429\n",
    "CD16.32    0.002418\n",
    "Ly6G       0.001229"
   ]
  }
 ],
 "metadata": {
  "kernelspec": {
   "display_name": "Python 3",
   "language": "python",
   "name": "python3"
  },
  "language_info": {
   "codemirror_mode": {
    "name": "ipython",
    "version": 2
   },
   "file_extension": ".py",
   "mimetype": "text/x-python",
   "name": "python",
   "nbconvert_exporter": "python",
   "pygments_lexer": "ipython2",
   "version": "2.7.6"
  }
 },
 "nbformat": 4,
 "nbformat_minor": 5
}
