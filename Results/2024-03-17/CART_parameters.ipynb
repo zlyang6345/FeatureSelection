{
 "cells": [
  {
   "cell_type": "markdown",
   "id": "dd5b264d",
   "metadata": {},
   "source": [
    "### Alpha"
   ]
  },
  {
   "cell_type": "markdown",
   "id": "e4cec59d",
   "metadata": {},
   "source": [
    "Only explore the effect of ccp_alpha. All other parameters are set to default. "
   ]
  },
  {
   "cell_type": "markdown",
   "id": "e1a818cb",
   "metadata": {},
   "source": [
    "#### ccp_alpha = 0.000001"
   ]
  },
  {
   "cell_type": "markdown",
   "id": "cce0ded4",
   "metadata": {},
   "source": [
    "         importance\n",
    "B220       0.354012\n",
    "CD5        0.117921\n",
    "CD21.35    0.076558\n",
    "CD19       0.057251\n",
    "CD44       0.047253\n",
    "IgM        0.038149\n",
    "MHCII      0.034050\n",
    "CD11b      0.028886\n",
    "NKp46      0.028601\n",
    "CD79b      0.024881\n",
    "Ly6G       0.022617\n",
    "IgD        0.022081\n",
    "CD71       0.021571\n",
    "Ly6C       0.020314\n",
    "CD11c      0.020259\n",
    "F4.80      0.014319\n",
    "Ter119     0.013104\n",
    "CD90       0.012561\n",
    "CD31       0.006223\n",
    "TCR        0.006051\n",
    "CD35       0.005858\n",
    "CD16.32    0.004403\n",
    "CD45       0.004283\n",
    "CD27       0.004113\n",
    "CD4        0.003738\n",
    "CD106      0.003145\n",
    "CD169      0.002576\n",
    "CD8a       0.002566\n",
    "CD3        0.002322\n",
    "ERTR7      0.000333"
   ]
  },
  {
   "cell_type": "markdown",
   "id": "f57c214a",
   "metadata": {},
   "source": [
    "#### ccp_alpha = 0.00001"
   ]
  },
  {
   "cell_type": "markdown",
   "id": "465e9ef5",
   "metadata": {},
   "source": [
    "         importance\n",
    "B220       0.355166\n",
    "CD5        0.119824\n",
    "CD21.35    0.078749\n",
    "CD19       0.058855\n",
    "CD44       0.042916\n",
    "IgM        0.037031\n",
    "MHCII      0.036439\n",
    "NKp46      0.029532\n",
    "CD11b      0.028564\n",
    "CD79b      0.023423\n",
    "Ly6G       0.022296\n",
    "CD71       0.021212\n",
    "CD11c      0.020975\n",
    "IgD        0.019955\n",
    "Ly6C       0.019820\n",
    "F4.80      0.013074\n",
    "Ter119     0.012958\n",
    "CD90       0.011503\n",
    "CD27       0.006289\n",
    "CD35       0.005693\n",
    "CD31       0.005604\n",
    "CD106      0.005011\n",
    "CD45       0.004106\n",
    "CD16.32    0.004067\n",
    "TCR        0.003424\n",
    "CD169      0.003252\n",
    "CD3        0.003218\n",
    "CD4        0.003127\n",
    "ERTR7      0.001964\n",
    "CD8a       0.001954\n"
   ]
  },
  {
   "cell_type": "markdown",
   "id": "189fdead",
   "metadata": {},
   "source": [
    "#### ccp_alpha=0.0001"
   ]
  },
  {
   "cell_type": "markdown",
   "id": "952a6918",
   "metadata": {},
   "source": [
    "         importance\n",
    "B220       0.355550\n",
    "CD5        0.120936\n",
    "CD21.35    0.076656\n",
    "CD19       0.055367\n",
    "CD44       0.041123\n",
    "MHCII      0.037953\n",
    "IgM        0.037651\n",
    "NKp46      0.030010\n",
    "CD11b      0.029823\n",
    "CD79b      0.025810\n",
    "CD71       0.022419\n",
    "Ly6G       0.022150\n",
    "IgD        0.020393\n",
    "Ly6C       0.019528\n",
    "CD11c      0.019049\n",
    "F4.80      0.014510\n",
    "Ter119     0.013441\n",
    "CD90       0.010827\n",
    "CD106      0.007649\n",
    "CD31       0.006630\n",
    "CD27       0.005866\n",
    "CD35       0.004887\n",
    "CD16.32    0.004156\n",
    "CD169      0.003921\n",
    "TCR        0.003685\n",
    "CD45       0.003100\n",
    "CD4        0.002735\n",
    "CD3        0.001969\n",
    "CD8a       0.001904\n",
    "ERTR7      0.000301"
   ]
  },
  {
   "cell_type": "markdown",
   "id": "ff7d6009",
   "metadata": {},
   "source": [
    "#### ccp_alpha=0.001"
   ]
  },
  {
   "cell_type": "markdown",
   "id": "4a808737",
   "metadata": {},
   "source": [
    "         importance\n",
    "B220       0.451232\n",
    "CD5        0.152273\n",
    "CD21.35    0.081151\n",
    "CD19       0.043469\n",
    "IgM        0.038893\n",
    "NKp46      0.034153\n",
    "CD11b      0.028929\n",
    "Ly6G       0.025398\n",
    "CD44       0.024817\n",
    "Ly6C       0.017349\n",
    "MHCII      0.016537\n",
    "CD11c      0.013381\n",
    "Ter119     0.012871\n",
    "CD71       0.012740\n",
    "CD90       0.012282\n",
    "F4.80      0.011831\n",
    "IgD        0.007651\n",
    "CD79b      0.006048\n",
    "CD16.32    0.003669\n",
    "CD27       0.002705\n",
    "TCR        0.002622\n",
    "CD35       0.000000\n",
    "CD8a       0.000000\n",
    "CD106      0.000000\n",
    "ERTR7      0.000000\n",
    "CD45       0.000000\n",
    "CD31       0.000000\n",
    "CD3        0.000000\n",
    "CD169      0.000000\n",
    "CD4        0.000000"
   ]
  },
  {
   "cell_type": "markdown",
   "id": "8141f312",
   "metadata": {},
   "source": [
    "#### ccp_alpha=0.01"
   ]
  },
  {
   "cell_type": "markdown",
   "id": "fb929f18",
   "metadata": {},
   "source": [
    "         importance\n",
    "B220       0.586847\n",
    "CD5        0.205421\n",
    "CD21.35    0.077261\n",
    "CD19       0.055083\n",
    "NKp46      0.040930\n",
    "CD11b      0.034458\n",
    "CD79b      0.000000\n",
    "TCR        0.000000\n",
    "MHCII      0.000000\n",
    "Ly6G       0.000000\n",
    "Ly6C       0.000000\n",
    "IgM        0.000000\n",
    "IgD        0.000000\n",
    "F4.80      0.000000\n",
    "ERTR7      0.000000\n",
    "CD90       0.000000\n",
    "CD8a       0.000000\n",
    "CD71       0.000000\n",
    "CD11c      0.000000\n",
    "CD106      0.000000\n",
    "CD45       0.000000\n",
    "CD44       0.000000\n",
    "CD4        0.000000\n",
    "CD35       0.000000\n",
    "CD31       0.000000\n",
    "CD3        0.000000\n",
    "CD27       0.000000\n",
    "CD169      0.000000\n",
    "CD16.32    0.000000\n",
    "Ter119     0.000000"
   ]
  },
  {
   "cell_type": "markdown",
   "id": "9c425a5b",
   "metadata": {},
   "source": [
    "#### ccp_alpha=0.1"
   ]
  },
  {
   "cell_type": "markdown",
   "id": "31308a3c",
   "metadata": {},
   "source": [
    "         importance\n",
    "B220            1.0\n",
    "CD106           0.0\n",
    "TCR             0.0\n",
    "NKp46           0.0\n",
    "MHCII           0.0\n",
    "Ly6G            0.0\n",
    "Ly6C            0.0\n",
    "IgM             0.0\n",
    "IgD             0.0\n",
    "F4.80           0.0\n",
    "ERTR7           0.0\n",
    "CD90            0.0\n",
    "CD8a            0.0\n",
    "CD79b           0.0\n",
    "CD71            0.0\n",
    "CD5             0.0\n",
    "CD45            0.0\n",
    "CD44            0.0\n",
    "CD4             0.0\n",
    "CD35            0.0\n",
    "CD31            0.0\n",
    "CD3             0.0\n",
    "CD27            0.0\n",
    "CD21.35         0.0\n",
    "CD19            0.0\n",
    "CD169           0.0\n",
    "CD16.32         0.0\n",
    "CD11c           0.0\n",
    "CD11b           0.0\n",
    "Ter119          0.0"
   ]
  }
 ],
 "metadata": {
  "kernelspec": {
   "display_name": "Python 3",
   "language": "python",
   "name": "python3"
  },
  "language_info": {
   "codemirror_mode": {
    "name": "ipython",
    "version": 2
   },
   "file_extension": ".py",
   "mimetype": "text/x-python",
   "name": "python",
   "nbconvert_exporter": "python",
   "pygments_lexer": "ipython2",
   "version": "2.7.6"
  }
 },
 "nbformat": 4,
 "nbformat_minor": 5
}
